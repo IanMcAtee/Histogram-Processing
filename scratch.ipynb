{
 "cells": [
  {
   "cell_type": "code",
   "execution_count": 3,
   "metadata": {},
   "outputs": [],
   "source": [
    "import timeit\n",
    "import cv2 as cv\n",
    "import numpy as np\n",
    "\n",
    "imgArr = cv.imread(\"./Images/LowContrast.tif\", cv.IMREAD_GRAYSCALE)\n"
   ]
  },
  {
   "cell_type": "code",
   "execution_count": 68,
   "metadata": {},
   "outputs": [
    {
     "name": "stdout",
     "output_type": "stream",
     "text": [
      "0.18495149991940707\n"
     ]
    }
   ],
   "source": [
    "def histogram_arr(arr, numLevels=256):\n",
    "    histogram = np.zeros(numLevels)\n",
    "    for val in np.nditer(arr): #Consider not using nditer for performance\n",
    "        histogram[val] += 1\n",
    "    return histogram\n",
    "\n",
    "def histogram_arr2(arr, numLevels=256):\n",
    "    histogram = np.zeros(numLevels)\n",
    "    for row in arr:\n",
    "        for val in row:\n",
    "            histogram[val] += 1\n",
    "    return histogram\n",
    "\n",
    "def hist_eq(imgArr, numLevels=256):\n",
    "    numPixels = imgArr.shape[0]*imgArr.shape[1]\n",
    "    cdf = np.zeros(numLevels)\n",
    "    histogram = histogram_arr(imgArr)\n",
    "    # Get cumulative distribution function\n",
    "    for i in range(numLevels):\n",
    "        sum = 0\n",
    "        for j in range(i+1):\n",
    "            sum += histogram[j]\n",
    "        cdf[i] = sum/numPixels \n",
    "    # Apply cdf as transformation function, scaled by number of levels\n",
    "    outputArr = np.zeros(imgArr.shape, dtype=int)\n",
    "    for (ind, val) in np.ndenumerate(imgArr):\n",
    "        outputArr[ind] = (numLevels-1)*cdf[val]\n",
    "    return outputArr\n",
    "\n",
    "def hist_eq2(imgArr, numLevels=256):\n",
    "    numPixels = imgArr.shape[0]*imgArr.shape[1]\n",
    "    cdf = np.zeros(numLevels)\n",
    "    histogram = histogram_arr2(imgArr)\n",
    "    # Get cumulative distribution function\n",
    "    for i in range(numLevels):\n",
    "        sum = 0\n",
    "        for j in range(i+1):\n",
    "            sum += histogram[j]\n",
    "        cdf[i] = sum/numPixels \n",
    "    # Apply cdf as transformation function, scaled by number of levels\n",
    "    outputArr = np.zeros(imgArr.shape, dtype=int)\n",
    "    for (ind, val) in np.ndenumerate(imgArr):\n",
    "        outputArr[ind] = (numLevels-1)*cdf[val]\n",
    "    return outputArr\n",
    "\n",
    "\n",
    "startTime = timeit.default_timer()\n",
    "output = hist_eq(imgArr)\n",
    "totalTime = timeit.default_timer() - startTime \n",
    "\n",
    "print(totalTime)"
   ]
  },
  {
   "cell_type": "code",
   "execution_count": 70,
   "metadata": {},
   "outputs": [
    {
     "name": "stdout",
     "output_type": "stream",
     "text": [
      "0.17745992500102148\n",
      "0.1700893725012429\n"
     ]
    }
   ],
   "source": [
    "\n",
    "def time_function(func, numIterations=1, *args, **kwargs):\n",
    "    timeSum = 0\n",
    "    for i in range(numIterations):\n",
    "        startTime = timeit.default_timer()\n",
    "        func(*args, **kwargs)\n",
    "        timeSum += timeit.default_timer() - startTime \n",
    "    avgTime = timeSum/numIterations\n",
    "    return avgTime\n",
    "\n",
    "print(time_function(hist_eq, 200, imgArr))\n",
    "print(time_function(hist_eq2, 200, imgArr))\n"
   ]
  }
 ],
 "metadata": {
  "kernelspec": {
   "display_name": "HistogramProcessing",
   "language": "python",
   "name": "python3"
  },
  "language_info": {
   "codemirror_mode": {
    "name": "ipython",
    "version": 3
   },
   "file_extension": ".py",
   "mimetype": "text/x-python",
   "name": "python",
   "nbconvert_exporter": "python",
   "pygments_lexer": "ipython3",
   "version": "3.12.3"
  }
 },
 "nbformat": 4,
 "nbformat_minor": 2
}
